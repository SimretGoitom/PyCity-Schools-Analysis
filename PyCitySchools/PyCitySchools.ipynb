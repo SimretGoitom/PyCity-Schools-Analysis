# Dependencies and Setup
import pandas as pd
import numpy as np
import os
# File to Load
school_data_path = os.path.join('Resources','schools_complete.csv')
student_data_path = os.path.join('Resources','students_complete.csv')

# Read School and Student Data File and store into Pandas Data Frames
school_data = pd.read_csv(school_data_path)
student_data = pd.read_csv(student_data_path)

# Combine the data into a single dataset
school_data_complete = pd.merge(student_data, school_data, how="left", on=["school_name", "school_name"])


